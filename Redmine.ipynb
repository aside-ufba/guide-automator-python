{
 "cells": [
  {
   "cell_type": "code",
   "execution_count": null,
   "metadata": {},
   "outputs": [],
   "source": [
    "from guide_automator_video import *\n",
    "\n",
    "# speak('Neste tutorial, vamos aprender a criar conteúdo em um site que usa o WordPress.')\n",
    "# speak('Primeiramente, acesse o endereço da interface admin do seu site.')\n",
    "get('http://demo.redmine.org/')\n",
    "click('.login')\n",
    "\n",
    "# speak('A seguir, digite seu usuário e senha e clique no botão Login. Neste exemplo, a senha é igual ao usuário.')\n",
    "slowTip('#username', 'teste')\n",
    "click('#password')\n",
    "slowTip('#password', 'teste')\n",
    "click('#login-form input[type=\"submit\"]')\n",
    "\n",
    "# speak('Clique em projetos')\n",
    "click('#top-menu > ul > li:nth-child(3) > a')\n",
    "\n",
    "# speak('Clique em novo projeto')\n",
    "click('a.icon.icon-add')\n",
    "\n",
    "# speak('Agora você pode editar')\n",
    "click('#project_name')\n",
    "slowTip('#project_name', 'GuideAutomator')\n",
    "click('#project_description')\n",
    "slowTip('#project_description', 'Ferramenta para criar tutoriais para aplicações web.')\n"
   ]
  }
 ],
 "metadata": {
  "kernelspec": {
   "display_name": "Python 3",
   "language": "python",
   "name": "python3"
  },
  "language_info": {
   "codemirror_mode": {
    "name": "ipython",
    "version": 3
   },
   "file_extension": ".py",
   "mimetype": "text/x-python",
   "name": "python",
   "nbconvert_exporter": "python",
   "pygments_lexer": "ipython3",
   "version": "3.6.5"
  }
 },
 "nbformat": 4,
 "nbformat_minor": 2
}
