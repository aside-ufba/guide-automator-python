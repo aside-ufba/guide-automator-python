{
 "cells": [
  {
   "cell_type": "code",
   "execution_count": null,
   "metadata": {},
   "outputs": [],
   "source": [
    "from guide_automator_video import *\n",
    "\n",
    "speak('Neste tutorial, vamos aprender a criar conteúdo em um site que usa o WordPress.')\n",
    "speak('Primeiramente, acesse o endereço da interface admin do seu site.')\n",
    "get('https://s1.demo.opensourcecms.com/wordpress/wp-login.php')\n",
    "move_fake_mouse('#user_login', 0)\n",
    "\n",
    "speak('A seguir, digite seu usuário e senha e clique no botão Login. Neste exemplo, a senha é igual ao usuário.')\n",
    "slowTip('#user_login', 'opensourcecms')\n",
    "click('#user_pass')\n",
    "slowTip('#user_pass', 'opensourcecms')\n",
    "click('#wp-submit')\n",
    "\n",
    "speak('Você está vendo o painel do seu site. Para visualizar as postagens, clique no link Post.')\n",
    "click('#menu-posts > a > div.wp-menu-image.dashicons-before.dashicons-admin-post')\n",
    "\n",
    "speak('E agora clique no botão para criar uma nova postagem.')\n",
    "click('.page-title-action')\n",
    "\n",
    "speak('Escreva o título e o conteúdo que você desejar...')\n",
    "slowTip('#title', 'Tutorial de WordPress')\n",
    "click('#content_ifr')\n",
    "wd.switch_to.frame('content_ifr')\n",
    "slowTip('#tinymce', 'Obrigado por visualizar este tutorial.')\n",
    "wd.switch_to.parent_frame()\n",
    "\n",
    "speak('E clique no botão Preview para ver como a postagem vai aparecer no seu site.')\n",
    "click('#post-preview')"
   ]
  },
  {
   "cell_type": "code",
   "execution_count": null,
   "metadata": {},
   "outputs": [],
   "source": []
  }
 ],
 "metadata": {
  "kernelspec": {
   "display_name": "Python 2",
   "language": "python",
   "name": "python2"
  },
  "language_info": {
   "codemirror_mode": {
    "name": "ipython",
    "version": 2
   },
   "file_extension": ".py",
   "mimetype": "text/x-python",
   "name": "python",
   "nbconvert_exporter": "python",
   "pygments_lexer": "ipython2",
   "version": "2.7.15"
  }
 },
 "nbformat": 4,
 "nbformat_minor": 2
}
