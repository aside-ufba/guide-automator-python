{
 "cells": [
  {
   "cell_type": "code",
   "execution_count": 1,
   "metadata": {},
   "outputs": [
    {
     "name": "stdout",
     "output_type": "stream",
     "text": [
      "pygame 1.9.4\n",
      "Hello from the pygame community. https://www.pygame.org/contribute.html\n",
      "(0, 0)\n",
      "(1065.125, 453.84375)\n",
      "(298.96875, 16.0)\n",
      "Fake cursor was already added\n",
      "(1839.453125, 303.0)\n"
     ]
    }
   ],
   "source": [
    "from guide_automator_video import *\n",
    "\n",
    "get('https://s1.demo.opensourcecms.com/wordpress/wp-login.php')\n",
    "speak('In this video, i will teach you how to add content to a wordpress site')\n",
    "speak('First, type your login and your password')\n",
    "\n",
    "fillIn('#user_login', 'opensourcecms')\n",
    "fillIn('#user_pass', 'opensourcecms')\n",
    "\n",
    "click('#wp-submit')\n",
    "\n",
    "speak('This is the user panel')\n",
    "speak('Now, click new, to add a new post to the site')\n",
    "click('#wp-admin-bar-new-content > a')\n",
    "\n",
    "speak('Type the title of the post')\n",
    "fillIn('#title', 'Hoje choveu muito')\n",
    "click('#content_ifr')\n",
    "\n",
    "speak('Publish your post')\n",
    "click('#publish')\n",
    "\n",
    "speak('Finally, you can view the content you created')\n",
    "click('#message > p > a')\n",
    "\n",
    "speak('Here is your published content')\n",
    "sleep(5)\n",
    "\n",
    "close()\n",
    "\n"
   ]
  },
  {
   "cell_type": "code",
   "execution_count": null,
   "metadata": {},
   "outputs": [],
   "source": []
  },
  {
   "cell_type": "code",
   "execution_count": null,
   "metadata": {},
   "outputs": [],
   "source": []
  }
 ],
 "metadata": {
  "kernelspec": {
   "display_name": "Python 3",
   "language": "python",
   "name": "python3"
  },
  "language_info": {
   "codemirror_mode": {
    "name": "ipython",
    "version": 3
   },
   "file_extension": ".py",
   "mimetype": "text/x-python",
   "name": "python",
   "nbconvert_exporter": "python",
   "pygments_lexer": "ipython3",
   "version": "3.5.2"
  }
 },
 "nbformat": 4,
 "nbformat_minor": 2
}
