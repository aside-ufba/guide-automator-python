{
 "cells": [
  {
   "cell_type": "code",
   "execution_count": null,
   "metadata": {},
   "outputs": [],
   "source": [
    "from guide_automator_video import *\n",
    "\n",
    "get('https://s1.demo.opensourcecms.com/wordpress/wp-login.php')\n",
    "speak('Neste video, irei ensinar como adicionar conteudo em um site que usa Wordpress')\n",
    "speak('Primeiro, digite seu login e sua senha. Nessa demo, eles saum iguais.')\n",
    "\n",
    "tip('#user_login', 'opensourcecms')\n",
    "tip('#user_pass', 'opensourcecms')\n",
    "\n",
    "click('#wp-submit')\n",
    "\n",
    "speak('Eis o seu painel de usuario')\n",
    "speak('Agora, clique em new, para adicionar uma nova postagem no site')\n",
    "click('#wp-admin-bar-new-content > a')\n",
    "\n",
    "speak('Então, digite o titulo da postagem, e seu conteudo')\n",
    "tip('#title', 'Hoje choveu muito')\n",
    "click('#content_ifr')\n",
    "\n",
    "speak('Agora, publique sua postagem')\n",
    "click('#publish')\n",
    "\n",
    "speak('Por fim, voce pode visualizar o conteudo que voce criou')\n",
    "click('#message > p > a')\n",
    "\n",
    "speak('Eis o seu conteudo publicado')\n",
    "\n",
    "\n",
    "close()\n",
    "\n"
   ]
  },
  {
   "cell_type": "code",
   "execution_count": null,
   "metadata": {},
   "outputs": [],
   "source": []
  },
  {
   "cell_type": "code",
   "execution_count": null,
   "metadata": {},
   "outputs": [],
   "source": []
  }
 ],
 "metadata": {
  "kernelspec": {
   "display_name": "Python 2",
   "language": "python",
   "name": "python2"
  },
  "language_info": {
   "codemirror_mode": {
    "name": "ipython",
    "version": 2
   },
   "file_extension": ".py",
   "mimetype": "text/x-python",
   "name": "python",
   "nbconvert_exporter": "python",
   "pygments_lexer": "ipython2",
   "version": "2.7.15"
  }
 },
 "nbformat": 4,
 "nbformat_minor": 2
}
