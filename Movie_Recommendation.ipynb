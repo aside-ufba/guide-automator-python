{
 "cells": [
  {
   "cell_type": "code",
   "execution_count": 1,
   "metadata": {},
   "outputs": [
    {
     "name": "stdout",
     "output_type": "stream",
     "text": [
      "pygame 1.9.4\n",
      "Hello from the pygame community. https://www.pygame.org/contribute.html\n",
      "(0, 0)\n"
     ]
    }
   ],
   "source": [
    "from guide_automator_video import *\n",
    "\n",
    "get('file:///home/guilherme/Movie-Recommendation/index.html')\n",
    "\n",
    "speak ('In this tutorial, i will teach you how to use an software which recommends films for you')\n",
    "speak('Type the year of the movie... For example, two thousand')\n",
    "fillIn('#year', '2000')\n",
    "speak('Click on the button and wait for the movie')\n",
    "click('#recomendation')\n",
    "sleep(5)\n",
    "speak('Now, you can watch the trailer!')\n",
    "sleep(3)\n",
    "close()\n"
   ]
  },
  {
   "cell_type": "code",
   "execution_count": null,
   "metadata": {},
   "outputs": [],
   "source": []
  }
 ],
 "metadata": {
  "kernelspec": {
   "display_name": "Python 3",
   "language": "python",
   "name": "python3"
  },
  "language_info": {
   "codemirror_mode": {
    "name": "ipython",
    "version": 3
   },
   "file_extension": ".py",
   "mimetype": "text/x-python",
   "name": "python",
   "nbconvert_exporter": "python",
   "pygments_lexer": "ipython3",
   "version": "3.5.2"
  }
 },
 "nbformat": 4,
 "nbformat_minor": 2
}
